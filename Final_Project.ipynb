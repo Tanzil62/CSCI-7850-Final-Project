{
 "cells": [
  {
   "cell_type": "markdown",
   "id": "f444e027-f9b2-4590-82f9-c4eec2c6bcc1",
   "metadata": {},
   "source": [
    "# Importing libraries"
   ]
  },
  {
   "cell_type": "code",
   "execution_count": null,
   "id": "92120bf0-c20b-47a7-b96e-97d8a66883f8",
   "metadata": {},
   "outputs": [],
   "source": [
    "\n",
    "import keras\n",
    "import numpy as np\n",
    "import pandas as pd\n",
    "import matplotlib.pyplot as plt\n",
    "from sklearn.model_selection import train_test_split\n",
    "from keras.applications.xception import Xception\n",
    "from keras.preprocessing import image\n",
    "from keras.applications.xception import preprocess_input, decode_predictions\n",
    "import keras\n",
    "from keras.models import Sequential\n",
    "from keras.layers import Dense, Activation, Dropout, Flatten, Conv2D, MaxPooling2D\n",
    "#from keras.layers.normalization import BatchNormalization\n",
    "import numpy as np\n",
    "np.random.seed(1000)\n",
    "from sklearn.metrics import confusion_matrix\n",
    "from sklearn.metrics import classification_report\n",
    "from keras.preprocessing import sequence\n",
    "from keras.models import Sequential\n",
    "from keras.layers import Dense, Dropout, Activation, Lambda\n",
    "from keras.layers import Embedding\n",
    "from keras.layers import Convolution1D,MaxPooling1D, Flatten\n",
    "from keras.datasets import imdb\n",
    "from keras import backend as K\n",
    "from sklearn.model_selection import train_test_split\n",
    "import pandas as pd\n",
    "from keras.utils.np_utils import to_categorical\n",
    "from sklearn.preprocessing import Normalizer\n",
    "from keras.models import Sequential\n",
    "from keras.layers import Convolution1D, GlobalMaxPooling1D,Dense, Dropout, Flatten, MaxPooling1D, Convolution2D, MaxPooling2D\n",
    "from keras.utils import np_utils\n",
    "import numpy as np\n",
    "import h5py\n",
    "from keras import callbacks\n",
    "from keras.layers import LSTM, GRU, SimpleRNN\n",
    "from keras.callbacks import CSVLogger\n",
    "from keras.callbacks import ModelCheckpoint, EarlyStopping, ReduceLROnPlateau, CSVLogger\n",
    "import csv\n",
    "from sklearn.model_selection import StratifiedKFold\n",
    "from sklearn.model_selection import cross_val_score\n",
    "from keras.wrappers.scikit_learn import KerasClassifier\n",
    "from sklearn.utils import shuffle\n",
    "import keras\n",
    "from sklearn.metrics import (precision_score, recall_score,f1_score, accuracy_score,mean_squared_error,mean_absolute_error)\n",
    "\n",
    "\n",
    "from matplotlib import pyplot\n",
    "from numpy import where\n",
    "from sklearn.preprocessing import MinMaxScaler\n",
    "from sklearn.preprocessing import StandardScaler\n",
    "from sklearn.metrics import roc_auc_score\n",
    "from sklearn import metrics"
   ]
  },
  {
   "cell_type": "markdown",
   "id": "21b4bd6b-576b-422d-93a0-6385c1fed583",
   "metadata": {},
   "source": [
    "# Loading Images"
   ]
  },
  {
   "cell_type": "code",
   "execution_count": 45,
   "id": "e8fa3031-bbbb-493e-8368-1dc3ca9424d3",
   "metadata": {},
   "outputs": [
    {
     "name": "stdout",
     "output_type": "stream",
     "text": [
      "X.shape:  (800, 227, 227, 3)\n"
     ]
    }
   ],
   "source": [
    "def grab_image(img_path):\n",
    "    img = image.load_img(img_path, target_size=(227, 227))\n",
    "    x = image.img_to_array(img)\n",
    "    x = np.expand_dims(x, axis=0)\n",
    "    x = preprocess_input(x)\n",
    "    return x\n",
    "num_imgs = 800 # number of images to use\n",
    "X = np.concatenate([grab_image('%06d.jpg'%(i)) for i in range(1,num_imgs+1)])\n",
    "print(\"X.shape: \",X.shape)"
   ]
  },
  {
   "cell_type": "markdown",
   "id": "fe08f4bd-cac7-42ae-956f-fc2beeb38299",
   "metadata": {},
   "source": [
    "# Spliting the original data into train and test data"
   ]
  },
  {
   "cell_type": "code",
   "execution_count": 46,
   "id": "87b9b18b-49de-471f-aaec-0a1214bbd613",
   "metadata": {},
   "outputs": [
    {
     "name": "stdout",
     "output_type": "stream",
     "text": [
      "leny:  800\n",
      "X_train.shape:  (640, 227, 227, 3)\n"
     ]
    }
   ],
   "source": [
    "y = pd.read_csv('list_attr_celeba.csv', index_col=0)\n",
    "Y = y[\"Male\"].iloc[:num_imgs]\n",
    "print(\"leny: \",len(Y))\n",
    "Y = Y.apply(lambda x: 0 if x==-1 else x)\n",
    "#Y = keras.utils.to_categorical(Y ,num_classes=2)\n",
    "\n",
    "X_train, X_test, y_train, y_test = train_test_split(X, Y, test_size=0.20, random_state=42)\n",
    "\n",
    "print(\"X_train.shape: \",X_train.shape)"
   ]
  },
  {
   "cell_type": "markdown",
   "id": "44b53658-be93-4023-a4d3-ae1a51edc188",
   "metadata": {},
   "source": [
    "# Creating the AlexNet Model"
   ]
  },
  {
   "cell_type": "code",
   "execution_count": 47,
   "id": "bf523514-314d-4389-aed7-1393ee1c4572",
   "metadata": {},
   "outputs": [
    {
     "name": "stdout",
     "output_type": "stream",
     "text": [
      "Model: \"sequential_7\"\n",
      "_________________________________________________________________\n",
      "Layer (type)                 Output Shape              Param #   \n",
      "=================================================================\n",
      "conv2d_35 (Conv2D)           (None, 55, 55, 96)        34944     \n",
      "_________________________________________________________________\n",
      "activation_63 (Activation)   (None, 55, 55, 96)        0         \n",
      "_________________________________________________________________\n",
      "max_pooling2d_21 (MaxPooling (None, 27, 27, 96)        0         \n",
      "_________________________________________________________________\n",
      "conv2d_36 (Conv2D)           (None, 23, 23, 256)       614656    \n",
      "_________________________________________________________________\n",
      "activation_64 (Activation)   (None, 23, 23, 256)       0         \n",
      "_________________________________________________________________\n",
      "max_pooling2d_22 (MaxPooling (None, 11, 11, 256)       0         \n",
      "_________________________________________________________________\n",
      "conv2d_37 (Conv2D)           (None, 9, 9, 384)         885120    \n",
      "_________________________________________________________________\n",
      "activation_65 (Activation)   (None, 9, 9, 384)         0         \n",
      "_________________________________________________________________\n",
      "conv2d_38 (Conv2D)           (None, 7, 7, 384)         1327488   \n",
      "_________________________________________________________________\n",
      "activation_66 (Activation)   (None, 7, 7, 384)         0         \n",
      "_________________________________________________________________\n",
      "conv2d_39 (Conv2D)           (None, 5, 5, 256)         884992    \n",
      "_________________________________________________________________\n",
      "activation_67 (Activation)   (None, 5, 5, 256)         0         \n",
      "_________________________________________________________________\n",
      "max_pooling2d_23 (MaxPooling (None, 2, 2, 256)         0         \n",
      "_________________________________________________________________\n",
      "flatten_7 (Flatten)          (None, 1024)              0         \n",
      "_________________________________________________________________\n",
      "dense_28 (Dense)             (None, 4096)              4198400   \n",
      "_________________________________________________________________\n",
      "activation_68 (Activation)   (None, 4096)              0         \n",
      "_________________________________________________________________\n",
      "dropout_21 (Dropout)         (None, 4096)              0         \n",
      "_________________________________________________________________\n",
      "dense_29 (Dense)             (None, 4096)              16781312  \n",
      "_________________________________________________________________\n",
      "activation_69 (Activation)   (None, 4096)              0         \n",
      "_________________________________________________________________\n",
      "dropout_22 (Dropout)         (None, 4096)              0         \n",
      "_________________________________________________________________\n",
      "dense_30 (Dense)             (None, 1000)              4097000   \n",
      "_________________________________________________________________\n",
      "activation_70 (Activation)   (None, 1000)              0         \n",
      "_________________________________________________________________\n",
      "dropout_23 (Dropout)         (None, 1000)              0         \n",
      "_________________________________________________________________\n",
      "dense_31 (Dense)             (None, 1)                 1001      \n",
      "_________________________________________________________________\n",
      "activation_71 (Activation)   (None, 1)                 0         \n",
      "=================================================================\n",
      "Total params: 28,824,913\n",
      "Trainable params: 28,824,913\n",
      "Non-trainable params: 0\n",
      "_________________________________________________________________\n"
     ]
    }
   ],
   "source": [
    "#Instantiate an empty model\n",
    "model = Sequential()\n",
    "\n",
    "# 1st Convolutional Layer\n",
    "model.add(Conv2D(filters=96, input_shape=(227,227,3), kernel_size=(11,11), strides=(4,4)))\n",
    "model.add(Activation(\"relu\"))\n",
    "# Max Pooling\n",
    "model.add(MaxPooling2D(pool_size=(3,3), strides=(2,2)))\n",
    "\n",
    "# 2nd Convolutional Layer\n",
    "model.add(Conv2D(filters=256, kernel_size=(5,5), strides=(1,1), padding=\"valid\"))\n",
    "model.add(Activation(\"relu\"))\n",
    "# Max Pooling\n",
    "model.add(MaxPooling2D(pool_size=(3,3), strides=(2,2)))\n",
    "\n",
    "# 3rd Convolutional Layer\n",
    "model.add(Conv2D(filters=384, kernel_size=(3,3), strides=(1,1), padding=\"valid\"))\n",
    "model.add(Activation(\"relu\"))\n",
    "\n",
    "# 4th Convolutional Layer\n",
    "model.add(Conv2D(filters=384, kernel_size=(3,3), strides=(1,1), padding=\"valid\"))\n",
    "model.add(Activation(\"relu\"))\n",
    "\n",
    "# 5th Convolutional Layer\n",
    "model.add(Conv2D(filters=256, kernel_size=(3,3), strides=(1,1), padding=\"valid\"))\n",
    "model.add(Activation(\"relu\"))\n",
    "# Max Pooling\n",
    "model.add(MaxPooling2D(pool_size=(3,3), strides=(2,2)))\n",
    "\n",
    "\n",
    "# Passing it to a Fully Connected layer\n",
    "model.add(Flatten())\n",
    "# 1st Fully Connected Layer\n",
    "model.add(Dense(4096, input_shape=(227*227*3,)))\n",
    "model.add(Activation(\"relu\"))\n",
    "# Add Dropout to prevent overfitting\n",
    "model.add(Dropout(0.4))\n",
    "\n",
    "# 2nd Fully Connected Layer\n",
    "model.add(Dense(4096))\n",
    "model.add(Activation(\"relu\"))\n",
    "# Add Dropout\n",
    "model.add(Dropout(0.4))\n",
    "# 3rd Fully Connected Layer\n",
    "model.add(Dense(1000))\n",
    "model.add(Activation(\"relu\"))\n",
    "# Add Dropout\n",
    "model.add(Dropout(0.4))\n",
    "\n",
    "# Output Layer\n",
    "model.add(Dense(1))\n",
    "model.add(Activation(\"sigmoid\"))\n",
    "model.summary()\n",
    "#opt = keras.optimizers.Adam(learning_rate=0.0001)\n",
    "# Compile the model\n",
    "model.compile(loss=keras.losses.binary_crossentropy, optimizer='adam', metrics=[\"accuracy\"]) \n"
   ]
  },
  {
   "cell_type": "markdown",
   "id": "d58f3f47-8688-4056-af6e-bc422742f752",
   "metadata": {},
   "source": [
    "# Running the model"
   ]
  },
  {
   "cell_type": "code",
   "execution_count": 48,
   "id": "1b1b6948-7dc0-4063-92cb-f0b0599f520f",
   "metadata": {},
   "outputs": [
    {
     "name": "stdout",
     "output_type": "stream",
     "text": [
      "Epoch 1/10\n",
      "20/20 [==============================] - 38s 2s/step - loss: 1.0536 - accuracy: 0.5172 - val_loss: 0.6906 - val_accuracy: 0.5437\n",
      "Epoch 2/10\n",
      "20/20 [==============================] - 36s 2s/step - loss: 0.6843 - accuracy: 0.5719 - val_loss: 0.6844 - val_accuracy: 0.5437\n",
      "Epoch 3/10\n",
      "20/20 [==============================] - 36s 2s/step - loss: 0.6717 - accuracy: 0.5719 - val_loss: 0.6672 - val_accuracy: 0.5500\n",
      "Epoch 4/10\n",
      "20/20 [==============================] - 36s 2s/step - loss: 0.6214 - accuracy: 0.6313 - val_loss: 0.6642 - val_accuracy: 0.6187\n",
      "Epoch 5/10\n",
      "20/20 [==============================] - 36s 2s/step - loss: 0.5700 - accuracy: 0.7156 - val_loss: 0.5500 - val_accuracy: 0.7063\n",
      "Epoch 6/10\n",
      "20/20 [==============================] - 36s 2s/step - loss: 0.4880 - accuracy: 0.7625 - val_loss: 0.4884 - val_accuracy: 0.7625\n",
      "Epoch 7/10\n",
      "20/20 [==============================] - 36s 2s/step - loss: 0.4154 - accuracy: 0.7937 - val_loss: 0.3271 - val_accuracy: 0.8687\n",
      "Epoch 8/10\n",
      "20/20 [==============================] - 36s 2s/step - loss: 0.3570 - accuracy: 0.8594 - val_loss: 0.3140 - val_accuracy: 0.8625\n",
      "Epoch 9/10\n",
      "20/20 [==============================] - 36s 2s/step - loss: 0.2976 - accuracy: 0.8578 - val_loss: 0.2668 - val_accuracy: 0.8562\n",
      "Epoch 10/10\n",
      "20/20 [==============================] - 36s 2s/step - loss: 0.2372 - accuracy: 0.8984 - val_loss: 0.2581 - val_accuracy: 0.9125\n",
      "Accuracy: 91.25%\n"
     ]
    }
   ],
   "source": [
    "batch_size = 32\n",
    "epochs = 10\n",
    "history=model.fit(X_train, y_train, validation_data=(X_test,y_test), epochs=epochs, batch_size=batch_size)\n"
   ]
  },
  {
   "cell_type": "markdown",
   "id": "830aac71-22d4-45d3-8506-6bdcb379e7f8",
   "metadata": {},
   "source": [
    "# Accuracy of the model to detect a person is male or not."
   ]
  },
  {
   "cell_type": "code",
   "execution_count": 53,
   "id": "c13763fc-3f3e-4982-9d32-546fbcce2677",
   "metadata": {},
   "outputs": [
    {
     "name": "stdout",
     "output_type": "stream",
     "text": [
      "Accuracy: 91.25%\n"
     ]
    }
   ],
   "source": [
    "scores = model.evaluate((X_test),y_test, verbose=0)\n",
    "print(\"Accuracy: %.2f%%\" % (scores[1]*100))"
   ]
  }
 ],
 "metadata": {
  "kernelspec": {
   "display_name": "Python 3 (ipykernel)",
   "language": "python",
   "name": "python3"
  },
  "language_info": {
   "codemirror_mode": {
    "name": "ipython",
    "version": 3
   },
   "file_extension": ".py",
   "mimetype": "text/x-python",
   "name": "python",
   "nbconvert_exporter": "python",
   "pygments_lexer": "ipython3",
   "version": "3.9.7"
  }
 },
 "nbformat": 4,
 "nbformat_minor": 5
}
